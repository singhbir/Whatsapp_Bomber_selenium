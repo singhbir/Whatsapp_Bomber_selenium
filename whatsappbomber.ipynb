{
 "cells": [
  {
   "cell_type": "code",
   "execution_count": 1,
   "metadata": {},
   "outputs": [],
   "source": [
    "from selenium import webdriver\n"
   ]
  },
  {
   "cell_type": "code",
   "execution_count": 11,
   "metadata": {},
   "outputs": [
    {
     "name": "stdout",
     "output_type": "stream",
     "text": [
      "Enmterh\n",
      "BOmbing Done00\n"
     ]
    }
   ],
   "source": [
    "driver=webdriver.Chrome(\"/home/spidee/Documents/chromedriver\")\n",
    "driver.get(\"https://web.whatsapp.com/\")\n",
    "m=\"HEllo\"\n",
    "input(\"Enmter\")\n",
    "count=50\n",
    "user = driver.find_element_by_xpath('//span[@title = \"Diwakar\"]')\n",
    "user.click()\n",
    "msg_box=driver.find_element_by_class_name(\"_2S1VP\")\n",
    "for i in range(count):\n",
    "    msg_box.send_keys(m)\n",
    "    button=driver.find_element_by_class_name(\"_35EW6\")\n",
    "    button.click()\n",
    "print(\"BOmbing Done00\")\n"
   ]
  },
  {
   "cell_type": "code",
   "execution_count": null,
   "metadata": {},
   "outputs": [],
   "source": []
  }
 ],
 "metadata": {
  "kernelspec": {
   "display_name": "Python 3",
   "language": "python",
   "name": "python3"
  },
  "language_info": {
   "codemirror_mode": {
    "name": "ipython",
    "version": 3
   },
   "file_extension": ".py",
   "mimetype": "text/x-python",
   "name": "python",
   "nbconvert_exporter": "python",
   "pygments_lexer": "ipython3",
   "version": "3.7.1"
  }
 },
 "nbformat": 4,
 "nbformat_minor": 2
}
